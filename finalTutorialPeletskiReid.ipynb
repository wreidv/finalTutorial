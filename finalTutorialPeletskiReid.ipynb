{
 "metadata": {
  "language_info": {
   "codemirror_mode": {
    "name": "ipython",
    "version": 3
   },
   "file_extension": ".py",
   "mimetype": "text/x-python",
   "name": "python",
   "nbconvert_exporter": "python",
   "pygments_lexer": "ipython3",
   "version": "3.9.0-final"
  },
  "orig_nbformat": 2,
  "kernelspec": {
   "name": "python3",
   "display_name": "Python 3",
   "language": "python"
  }
 },
 "nbformat": 4,
 "nbformat_minor": 2,
 "cells": [
  {
   "cell_type": "code",
   "execution_count": 27,
   "metadata": {
    "tags": []
   },
   "outputs": [
    {
     "output_type": "error",
     "ename": "NameError",
     "evalue": "name 'yf' is not defined",
     "traceback": [
      "\u001b[0;31m---------------------------------------------------------------------------\u001b[0m",
      "\u001b[0;31mNameError\u001b[0m                                 Traceback (most recent call last)",
      "\u001b[0;32m<ipython-input-27-32a0c217d7ca>\u001b[0m in \u001b[0;36m<module>\u001b[0;34m\u001b[0m\n\u001b[1;32m      8\u001b[0m \u001b[0;32mfrom\u001b[0m \u001b[0mpandas_datareader\u001b[0m \u001b[0;32mimport\u001b[0m \u001b[0mdata\u001b[0m \u001b[0;32mas\u001b[0m \u001b[0mpdr\u001b[0m\u001b[0;34m\u001b[0m\u001b[0;34m\u001b[0m\u001b[0m\n\u001b[1;32m      9\u001b[0m \u001b[0;34m\u001b[0m\u001b[0m\n\u001b[0;32m---> 10\u001b[0;31m \u001b[0myf\u001b[0m\u001b[0;34m.\u001b[0m\u001b[0mpdr_override\u001b[0m\u001b[0;34m(\u001b[0m\u001b[0;34m)\u001b[0m\u001b[0;34m\u001b[0m\u001b[0;34m\u001b[0m\u001b[0m\n\u001b[0m\u001b[1;32m     11\u001b[0m \u001b[0;34m\u001b[0m\u001b[0m\n\u001b[1;32m     12\u001b[0m \u001b[0;31m# Get html code of website that has stock list for S&P 500\u001b[0m\u001b[0;34m\u001b[0m\u001b[0;34m\u001b[0m\u001b[0;34m\u001b[0m\u001b[0m\n",
      "\u001b[0;31mNameError\u001b[0m: name 'yf' is not defined"
     ]
    }
   ],
   "source": [
    "import requests\n",
    "from bs4 import BeautifulSoup\n",
    "import pandas as pd\n",
    "import numpy as np\n",
    "import datetime as dt\n",
    "import re\n",
    "import yfinance\n",
    "from pandas_datareader import data as pdr\n",
    "\n",
    "yfinance.pdr_override()\n",
    "\n",
    "# Get html code of website that has stock list for S&P 500\n",
    "url = 'https://www.slickcharts.com/sp500'\n",
    "headers = {'user-agent': 'Mozilla/5.0 (Macintosh; Intel Mac OS X 10_15_6) AppleWebKit/537.36 (KHTML, like Gecko) Chrome/85.0.4183.102 Safari/537.36'}\n",
    "r = requests.get(url, headers = headers)\n",
    "soup = BeautifulSoup(r.text, 'html')\n",
    "\n",
    "# Find the table holding the list of stocks\n",
    "table = soup.find('table')\n",
    "temp = pd.read_html(table.prettify())\n",
    "sp = pd.DataFrame(temp[0])\n",
    "\n",
    "# Put the stock symbols into one list\n",
    "stockList = []\n",
    "for idx, row in sp.iterrows():\n",
    "    stockList.append(row['Symbol'])\n",
    "\n",
    "# Set up time objects\n",
    "now = dt.datetime.now()\n",
    "start = dt.datetime(now.year-2, now.month, now.day)\n",
    "\n",
    "# Go through each stock in list and test the purchasing setup\n",
    "for stock in stockList:\n",
    "    df = pdr.get_data_yahoo(stock,start,now)\n",
    "\n",
    "    # Create column of rolling highs and lows (High/Low over past 10 days)\n",
    "    df['L10'] = df['Low'].rolling(window=10).min()\n",
    "    df['H10'] = df['High'].rolling(window=10).max()\n",
    "\n",
    "    # Calculate %K and %D (part of stochastic measure)\n",
    "    df['%K'] = 100*((df['Close'] - df['L10']) / (df['H10'] - df['L10']))\n",
    "    df['%D'] = df['%K'].rolling(window=4).mean()\n",
    "print('done')"
   ]
  },
  {
   "cell_type": "code",
   "execution_count": null,
   "metadata": {},
   "outputs": [],
   "source": []
  },
  {
   "cell_type": "code",
   "execution_count": null,
   "metadata": {},
   "outputs": [],
   "source": []
  }
 ]
}